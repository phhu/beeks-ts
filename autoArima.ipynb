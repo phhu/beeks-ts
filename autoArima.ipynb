{
 "cells": [
  {
   "cell_type": "code",
   "execution_count": null,
   "metadata": {},
   "outputs": [],
   "source": [
    "from statsforecast import StatsForecast\n",
    "from statsforecast.models import AutoARIMA, _TS\n",
    "from statsmodels.graphics.tsaplots import plot_acf\n",
    "from sklearn.model_selection import ParameterGrid\n",
    "from utilsforecast.plotting import plot_series\n",
    "import pandas as pd\n",
    "import matplotlib.pyplot as plt\n",
    "from utilsforecast.plotting import plot_series\n",
    "import fn\n",
    "\n",
    "Y_df = pd.read_csv(\"./testData/test.csv\",dtype={'ds': 'U'},)\n",
    "Y_df['ds'] = pd.to_datetime(Y_df['ds'], format='%Y-%m-%dT%H:%M:%SZ')\n",
    "\n",
    "sf = StatsForecast(\n",
    "    models = [AutoARIMA(season_length = 1)],\n",
    "    freq = 'h'\n",
    ")\n",
    "\n"
   ]
  }
 ],
 "metadata": {
  "kernelspec": {
   "display_name": "prophetTest",
   "language": "python",
   "name": "python3"
  },
  "language_info": {
   "name": "python",
   "version": "3.11.8"
  }
 },
 "nbformat": 4,
 "nbformat_minor": 2
}
