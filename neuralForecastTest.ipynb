{
 "cells": [
  {
   "cell_type": "code",
   "execution_count": 22,
   "metadata": {},
   "outputs": [],
   "source": [
    "from neuralforecast.utils import AirPassengersDF\n",
    "import pandas as pd\n",
    "from neuralforecast import NeuralForecast\n",
    "from neuralforecast.models import NHITS\n",
    "import matplotlib.pyplot as plt\n",
    "from neuralforecast.losses.pytorch import MQLoss\n",
    "from utilsforecast.plotting import plot_series\n",
    "import fn\n",
    "from toolz.functoolz import pipe\n",
    "from matplotlib import cm\n",
    "import matplotlib\n",
    "import plotly.graph_objects as go"
   ]
  },
  {
   "cell_type": "code",
   "execution_count": 40,
   "metadata": {},
   "outputs": [
    {
     "data": {
      "text/plain": [
       "unique_id            object\n",
       "ds           datetime64[ns]\n",
       "y                   float64\n",
       "dtype: object"
      ]
     },
     "execution_count": 40,
     "metadata": {},
     "output_type": "execute_result"
    }
   ],
   "source": [
    "# Y_df = AirPassengersDF # Defined in neuralforecast.utils\n",
    "# Y_df.head()\n",
    "\n",
    "Y_df = pd.read_csv(\"./testData/test.csv\",dtype={'ds': 'U'},)\n",
    "Y_df['ds'] = pd.to_datetime(Y_df['ds'], format='%Y-%m-%dT%H:%M:%SZ')\n",
    "Y_df.head()\n",
    "\n",
    "Y_df.dtypes"
   ]
  },
  {
   "cell_type": "code",
   "execution_count": 43,
   "metadata": {},
   "outputs": [
    {
     "name": "stderr",
     "output_type": "stream",
     "text": [
      "Seed set to 1\n"
     ]
    }
   ],
   "source": [
    "horizon = 2\n",
    "levels = [80,90,99]\n",
    "# Try different hyperparmeters to improve accuracy.\n",
    "models = [NHITS(h=horizon,                      # Forecast horizon\n",
    "                input_size=2 * horizon,         # Length of input sequence\n",
    "                max_steps=10,                 # Number of steps to train\n",
    "                n_freq_downsample=[2, 1, 1],    # Downsampling factors for each stack output\n",
    "                mlp_units = 3 * [[1024, 1024]],\n",
    "                  loss=MQLoss(level=levels),\n",
    "                  \n",
    "                ) # Number of units in each block.\n",
    "          ]\n",
    "nf = NeuralForecast(models=models, freq='M')\n"
   ]
  },
  {
   "cell_type": "code",
   "execution_count": 44,
   "metadata": {},
   "outputs": [
    {
     "name": "stderr",
     "output_type": "stream",
     "text": [
      "/home/philip/miniconda3/envs/prophetTest/lib/python3.11/site-packages/neuralforecast/common/_base_model.py:208: UserWarning: val_check_steps is greater than max_steps, setting val_check_steps to max_steps.\n",
      "  warnings.warn(\n",
      "GPU available: True (cuda), used: True\n",
      "TPU available: False, using: 0 TPU cores\n",
      "IPU available: False, using: 0 IPUs\n",
      "HPU available: False, using: 0 HPUs\n",
      "LOCAL_RANK: 0 - CUDA_VISIBLE_DEVICES: [0]\n"
     ]
    },
    {
     "name": "stderr",
     "output_type": "stream",
     "text": [
      "\n",
      "  | Name         | Type          | Params\n",
      "-----------------------------------------------\n",
      "0 | loss         | MQLoss        | 7     \n",
      "1 | padder_train | ConstantPad1d | 0     \n",
      "2 | scaler       | TemporalNorm  | 0     \n",
      "3 | blocks       | ModuleList    | 9.5 M \n",
      "-----------------------------------------------\n",
      "9.5 M     Trainable params\n",
      "7         Non-trainable params\n",
      "9.5 M     Total params\n",
      "38.023    Total estimated model params size (MB)\n"
     ]
    },
    {
     "name": "stdout",
     "output_type": "stream",
     "text": [
      "Epoch 9: 100%|██████████| 1/1 [00:00<00:00,  8.93it/s, v_num=110, train_loss_step=0.0413, train_loss_epoch=0.0413, valid_loss=0.112]"
     ]
    },
    {
     "name": "stderr",
     "output_type": "stream",
     "text": [
      "`Trainer.fit` stopped: `max_steps=10` reached.\n"
     ]
    },
    {
     "name": "stdout",
     "output_type": "stream",
     "text": [
      "Epoch 9: 100%|██████████| 1/1 [00:00<00:00,  8.76it/s, v_num=110, train_loss_step=0.0413, train_loss_epoch=0.0413, valid_loss=0.112]\n"
     ]
    }
   ],
   "source": [
    "nf.fit(df=Y_df, val_size=horizon)"
   ]
  },
  {
   "cell_type": "code",
   "execution_count": 47,
   "metadata": {},
   "outputs": [
    {
     "name": "stderr",
     "output_type": "stream",
     "text": [
      "/home/philip/miniconda3/envs/prophetTest/lib/python3.11/site-packages/utilsforecast/processing.py:374: FutureWarning: 'M' is deprecated and will be removed in a future version, please use 'ME' instead.\n",
      "  freq = pd.tseries.frequencies.to_offset(freq)\n",
      "GPU available: True (cuda), used: True\n",
      "TPU available: False, using: 0 TPU cores\n",
      "IPU available: False, using: 0 IPUs\n",
      "HPU available: False, using: 0 HPUs\n",
      "LOCAL_RANK: 0 - CUDA_VISIBLE_DEVICES: [0]\n"
     ]
    },
    {
     "name": "stdout",
     "output_type": "stream",
     "text": [
      "Predicting DataLoader 0: 100%|██████████| 1/1 [00:00<00:00, 98.10it/s] \n"
     ]
    },
    {
     "name": "stderr",
     "output_type": "stream",
     "text": [
      "/home/philip/miniconda3/envs/prophetTest/lib/python3.11/site-packages/neuralforecast/core.py:196: FutureWarning: In a future version the predictions will have the id as a column. You can set the `NIXTLA_ID_AS_COL` environment variable to adopt the new behavior and to suppress this warning.\n",
      "  warnings.warn(\n"
     ]
    },
    {
     "data": {
      "text/html": [
       "<div>\n",
       "<style scoped>\n",
       "    .dataframe tbody tr th:only-of-type {\n",
       "        vertical-align: middle;\n",
       "    }\n",
       "\n",
       "    .dataframe tbody tr th {\n",
       "        vertical-align: top;\n",
       "    }\n",
       "\n",
       "    .dataframe thead th {\n",
       "        text-align: right;\n",
       "    }\n",
       "</style>\n",
       "<table border=\"1\" class=\"dataframe\">\n",
       "  <thead>\n",
       "    <tr style=\"text-align: right;\">\n",
       "      <th></th>\n",
       "      <th>ds</th>\n",
       "      <th>cutoff</th>\n",
       "      <th>NHITS-median</th>\n",
       "      <th>NHITS-lo-99</th>\n",
       "      <th>NHITS-lo-90</th>\n",
       "      <th>NHITS-lo-80</th>\n",
       "      <th>NHITS-hi-80</th>\n",
       "      <th>NHITS-hi-90</th>\n",
       "      <th>NHITS-hi-99</th>\n",
       "      <th>y</th>\n",
       "    </tr>\n",
       "    <tr>\n",
       "      <th>unique_id</th>\n",
       "      <th></th>\n",
       "      <th></th>\n",
       "      <th></th>\n",
       "      <th></th>\n",
       "      <th></th>\n",
       "      <th></th>\n",
       "      <th></th>\n",
       "      <th></th>\n",
       "      <th></th>\n",
       "      <th></th>\n",
       "    </tr>\n",
       "  </thead>\n",
       "  <tbody>\n",
       "    <tr>\n",
       "      <th>a</th>\n",
       "      <td>2024-01-01 12:00:00</td>\n",
       "      <td>2023-12-31 12:00:00</td>\n",
       "      <td>-0.108353</td>\n",
       "      <td>-0.407957</td>\n",
       "      <td>-0.338368</td>\n",
       "      <td>-0.150701</td>\n",
       "      <td>0.064993</td>\n",
       "      <td>0.007472</td>\n",
       "      <td>0.273509</td>\n",
       "      <td>1.2</td>\n",
       "    </tr>\n",
       "    <tr>\n",
       "      <th>a</th>\n",
       "      <td>2024-01-01 13:00:00</td>\n",
       "      <td>2023-12-31 12:00:00</td>\n",
       "      <td>-0.185011</td>\n",
       "      <td>-0.476949</td>\n",
       "      <td>-0.243333</td>\n",
       "      <td>-0.120072</td>\n",
       "      <td>0.037656</td>\n",
       "      <td>0.044760</td>\n",
       "      <td>-0.063932</td>\n",
       "      <td>1.3</td>\n",
       "    </tr>\n",
       "    <tr>\n",
       "      <th>a</th>\n",
       "      <td>2024-01-01 14:00:00</td>\n",
       "      <td>2023-12-31 14:00:00</td>\n",
       "      <td>0.984654</td>\n",
       "      <td>0.255963</td>\n",
       "      <td>0.574604</td>\n",
       "      <td>0.940408</td>\n",
       "      <td>1.537441</td>\n",
       "      <td>1.361575</td>\n",
       "      <td>1.836984</td>\n",
       "      <td>1.7</td>\n",
       "    </tr>\n",
       "    <tr>\n",
       "      <th>a</th>\n",
       "      <td>2024-01-01 15:00:00</td>\n",
       "      <td>2023-12-31 14:00:00</td>\n",
       "      <td>0.923275</td>\n",
       "      <td>0.192768</td>\n",
       "      <td>0.694973</td>\n",
       "      <td>0.953472</td>\n",
       "      <td>1.496655</td>\n",
       "      <td>1.410971</td>\n",
       "      <td>1.442286</td>\n",
       "      <td>1.6</td>\n",
       "    </tr>\n",
       "    <tr>\n",
       "      <th>a</th>\n",
       "      <td>2024-01-01 16:00:00</td>\n",
       "      <td>2023-12-31 16:00:00</td>\n",
       "      <td>1.289634</td>\n",
       "      <td>0.059408</td>\n",
       "      <td>0.607347</td>\n",
       "      <td>0.950567</td>\n",
       "      <td>1.919309</td>\n",
       "      <td>1.771615</td>\n",
       "      <td>2.333704</td>\n",
       "      <td>1.2</td>\n",
       "    </tr>\n",
       "  </tbody>\n",
       "</table>\n",
       "</div>"
      ],
      "text/plain": [
       "                           ds              cutoff  NHITS-median  NHITS-lo-99  \\\n",
       "unique_id                                                                      \n",
       "a         2024-01-01 12:00:00 2023-12-31 12:00:00     -0.108353    -0.407957   \n",
       "a         2024-01-01 13:00:00 2023-12-31 12:00:00     -0.185011    -0.476949   \n",
       "a         2024-01-01 14:00:00 2023-12-31 14:00:00      0.984654     0.255963   \n",
       "a         2024-01-01 15:00:00 2023-12-31 14:00:00      0.923275     0.192768   \n",
       "a         2024-01-01 16:00:00 2023-12-31 16:00:00      1.289634     0.059408   \n",
       "\n",
       "           NHITS-lo-90  NHITS-lo-80  NHITS-hi-80  NHITS-hi-90  NHITS-hi-99  \\\n",
       "unique_id                                                                    \n",
       "a            -0.338368    -0.150701     0.064993     0.007472     0.273509   \n",
       "a            -0.243333    -0.120072     0.037656     0.044760    -0.063932   \n",
       "a             0.574604     0.940408     1.537441     1.361575     1.836984   \n",
       "a             0.694973     0.953472     1.496655     1.410971     1.442286   \n",
       "a             0.607347     0.950567     1.919309     1.771615     2.333704   \n",
       "\n",
       "             y  \n",
       "unique_id       \n",
       "a          1.2  \n",
       "a          1.3  \n",
       "a          1.7  \n",
       "a          1.6  \n",
       "a          1.2  "
      ]
     },
     "execution_count": 47,
     "metadata": {},
     "output_type": "execute_result"
    }
   ],
   "source": [
    "Y_hat_insample = nf.predict_insample(step_size=horizon)\n",
    "Y_hat_insample.head()"
   ]
  },
  {
   "cell_type": "code",
   "execution_count": 48,
   "metadata": {},
   "outputs": [
    {
     "data": {
      "text/html": [
       "<div>\n",
       "<style scoped>\n",
       "    .dataframe tbody tr th:only-of-type {\n",
       "        vertical-align: middle;\n",
       "    }\n",
       "\n",
       "    .dataframe tbody tr th {\n",
       "        vertical-align: top;\n",
       "    }\n",
       "\n",
       "    .dataframe thead th {\n",
       "        text-align: right;\n",
       "    }\n",
       "</style>\n",
       "<table border=\"1\" class=\"dataframe\">\n",
       "  <thead>\n",
       "    <tr style=\"text-align: right;\">\n",
       "      <th></th>\n",
       "      <th>unique_id</th>\n",
       "      <th>ds</th>\n",
       "      <th>NHITS</th>\n",
       "      <th>NHITS-lo-99</th>\n",
       "      <th>NHITS-lo-90</th>\n",
       "      <th>NHITS-lo-80</th>\n",
       "      <th>NHITS-hi-80</th>\n",
       "      <th>NHITS-hi-90</th>\n",
       "      <th>NHITS-hi-99</th>\n",
       "    </tr>\n",
       "  </thead>\n",
       "  <tbody>\n",
       "    <tr>\n",
       "      <th>0</th>\n",
       "      <td>a</td>\n",
       "      <td>2024-01-01 12:00:00</td>\n",
       "      <td>-0.108353</td>\n",
       "      <td>-0.407957</td>\n",
       "      <td>-0.338368</td>\n",
       "      <td>-0.150701</td>\n",
       "      <td>0.064993</td>\n",
       "      <td>0.007472</td>\n",
       "      <td>0.273509</td>\n",
       "    </tr>\n",
       "    <tr>\n",
       "      <th>1</th>\n",
       "      <td>a</td>\n",
       "      <td>2024-01-01 13:00:00</td>\n",
       "      <td>-0.185011</td>\n",
       "      <td>-0.476949</td>\n",
       "      <td>-0.243333</td>\n",
       "      <td>-0.120072</td>\n",
       "      <td>0.037656</td>\n",
       "      <td>0.044760</td>\n",
       "      <td>-0.063932</td>\n",
       "    </tr>\n",
       "    <tr>\n",
       "      <th>2</th>\n",
       "      <td>a</td>\n",
       "      <td>2024-01-01 14:00:00</td>\n",
       "      <td>0.984654</td>\n",
       "      <td>0.255963</td>\n",
       "      <td>0.574604</td>\n",
       "      <td>0.940408</td>\n",
       "      <td>1.537441</td>\n",
       "      <td>1.361575</td>\n",
       "      <td>1.836984</td>\n",
       "    </tr>\n",
       "    <tr>\n",
       "      <th>3</th>\n",
       "      <td>a</td>\n",
       "      <td>2024-01-01 15:00:00</td>\n",
       "      <td>0.923275</td>\n",
       "      <td>0.192768</td>\n",
       "      <td>0.694973</td>\n",
       "      <td>0.953472</td>\n",
       "      <td>1.496655</td>\n",
       "      <td>1.410971</td>\n",
       "      <td>1.442286</td>\n",
       "    </tr>\n",
       "    <tr>\n",
       "      <th>4</th>\n",
       "      <td>a</td>\n",
       "      <td>2024-01-01 16:00:00</td>\n",
       "      <td>1.289634</td>\n",
       "      <td>0.059408</td>\n",
       "      <td>0.607347</td>\n",
       "      <td>0.950567</td>\n",
       "      <td>1.919309</td>\n",
       "      <td>1.771615</td>\n",
       "      <td>2.333704</td>\n",
       "    </tr>\n",
       "    <tr>\n",
       "      <th>5</th>\n",
       "      <td>a</td>\n",
       "      <td>2024-01-01 17:00:00</td>\n",
       "      <td>1.137796</td>\n",
       "      <td>-0.009922</td>\n",
       "      <td>0.658496</td>\n",
       "      <td>1.012793</td>\n",
       "      <td>1.882055</td>\n",
       "      <td>1.745244</td>\n",
       "      <td>2.052947</td>\n",
       "    </tr>\n",
       "    <tr>\n",
       "      <th>6</th>\n",
       "      <td>a</td>\n",
       "      <td>2024-01-01 18:00:00</td>\n",
       "      <td>1.132224</td>\n",
       "      <td>-0.196516</td>\n",
       "      <td>0.319200</td>\n",
       "      <td>0.660871</td>\n",
       "      <td>1.584400</td>\n",
       "      <td>1.482992</td>\n",
       "      <td>2.039933</td>\n",
       "    </tr>\n",
       "    <tr>\n",
       "      <th>7</th>\n",
       "      <td>a</td>\n",
       "      <td>2024-01-01 19:00:00</td>\n",
       "      <td>0.853178</td>\n",
       "      <td>-0.250263</td>\n",
       "      <td>0.372104</td>\n",
       "      <td>0.713475</td>\n",
       "      <td>1.545412</td>\n",
       "      <td>1.433161</td>\n",
       "      <td>1.727971</td>\n",
       "    </tr>\n",
       "    <tr>\n",
       "      <th>8</th>\n",
       "      <td>b</td>\n",
       "      <td>2024-01-01 12:00:00</td>\n",
       "      <td>-0.108353</td>\n",
       "      <td>-0.407957</td>\n",
       "      <td>-0.338368</td>\n",
       "      <td>-0.150701</td>\n",
       "      <td>0.064993</td>\n",
       "      <td>0.007472</td>\n",
       "      <td>0.273509</td>\n",
       "    </tr>\n",
       "    <tr>\n",
       "      <th>9</th>\n",
       "      <td>b</td>\n",
       "      <td>2024-01-01 13:00:00</td>\n",
       "      <td>-0.185011</td>\n",
       "      <td>-0.476949</td>\n",
       "      <td>-0.243333</td>\n",
       "      <td>-0.120072</td>\n",
       "      <td>0.037656</td>\n",
       "      <td>0.044760</td>\n",
       "      <td>-0.063932</td>\n",
       "    </tr>\n",
       "    <tr>\n",
       "      <th>10</th>\n",
       "      <td>b</td>\n",
       "      <td>2024-01-01 14:00:00</td>\n",
       "      <td>1.050966</td>\n",
       "      <td>0.289562</td>\n",
       "      <td>0.620551</td>\n",
       "      <td>1.025422</td>\n",
       "      <td>1.660430</td>\n",
       "      <td>1.466082</td>\n",
       "      <td>1.972508</td>\n",
       "    </tr>\n",
       "    <tr>\n",
       "      <th>11</th>\n",
       "      <td>b</td>\n",
       "      <td>2024-01-01 15:00:00</td>\n",
       "      <td>1.005364</td>\n",
       "      <td>0.225759</td>\n",
       "      <td>0.755815</td>\n",
       "      <td>1.033190</td>\n",
       "      <td>1.621101</td>\n",
       "      <td>1.525693</td>\n",
       "      <td>1.550014</td>\n",
       "    </tr>\n",
       "    <tr>\n",
       "      <th>12</th>\n",
       "      <td>b</td>\n",
       "      <td>2024-01-01 16:00:00</td>\n",
       "      <td>1.555890</td>\n",
       "      <td>0.237505</td>\n",
       "      <td>0.842785</td>\n",
       "      <td>1.182452</td>\n",
       "      <td>2.244275</td>\n",
       "      <td>2.091246</td>\n",
       "      <td>2.678151</td>\n",
       "    </tr>\n",
       "    <tr>\n",
       "      <th>13</th>\n",
       "      <td>b</td>\n",
       "      <td>2024-01-01 17:00:00</td>\n",
       "      <td>1.407139</td>\n",
       "      <td>0.166373</td>\n",
       "      <td>0.889929</td>\n",
       "      <td>1.259789</td>\n",
       "      <td>2.203536</td>\n",
       "      <td>2.055027</td>\n",
       "      <td>2.414895</td>\n",
       "    </tr>\n",
       "    <tr>\n",
       "      <th>14</th>\n",
       "      <td>b</td>\n",
       "      <td>2024-01-01 18:00:00</td>\n",
       "      <td>1.224394</td>\n",
       "      <td>-0.205542</td>\n",
       "      <td>0.350992</td>\n",
       "      <td>0.700722</td>\n",
       "      <td>1.694595</td>\n",
       "      <td>1.610682</td>\n",
       "      <td>2.175858</td>\n",
       "    </tr>\n",
       "    <tr>\n",
       "      <th>15</th>\n",
       "      <td>b</td>\n",
       "      <td>2024-01-01 19:00:00</td>\n",
       "      <td>0.939468</td>\n",
       "      <td>-0.266302</td>\n",
       "      <td>0.401132</td>\n",
       "      <td>0.765911</td>\n",
       "      <td>1.673749</td>\n",
       "      <td>1.536584</td>\n",
       "      <td>1.879144</td>\n",
       "    </tr>\n",
       "  </tbody>\n",
       "</table>\n",
       "</div>"
      ],
      "text/plain": [
       "   unique_id                  ds     NHITS  NHITS-lo-99  NHITS-lo-90  \\\n",
       "0          a 2024-01-01 12:00:00 -0.108353    -0.407957    -0.338368   \n",
       "1          a 2024-01-01 13:00:00 -0.185011    -0.476949    -0.243333   \n",
       "2          a 2024-01-01 14:00:00  0.984654     0.255963     0.574604   \n",
       "3          a 2024-01-01 15:00:00  0.923275     0.192768     0.694973   \n",
       "4          a 2024-01-01 16:00:00  1.289634     0.059408     0.607347   \n",
       "5          a 2024-01-01 17:00:00  1.137796    -0.009922     0.658496   \n",
       "6          a 2024-01-01 18:00:00  1.132224    -0.196516     0.319200   \n",
       "7          a 2024-01-01 19:00:00  0.853178    -0.250263     0.372104   \n",
       "8          b 2024-01-01 12:00:00 -0.108353    -0.407957    -0.338368   \n",
       "9          b 2024-01-01 13:00:00 -0.185011    -0.476949    -0.243333   \n",
       "10         b 2024-01-01 14:00:00  1.050966     0.289562     0.620551   \n",
       "11         b 2024-01-01 15:00:00  1.005364     0.225759     0.755815   \n",
       "12         b 2024-01-01 16:00:00  1.555890     0.237505     0.842785   \n",
       "13         b 2024-01-01 17:00:00  1.407139     0.166373     0.889929   \n",
       "14         b 2024-01-01 18:00:00  1.224394    -0.205542     0.350992   \n",
       "15         b 2024-01-01 19:00:00  0.939468    -0.266302     0.401132   \n",
       "\n",
       "    NHITS-lo-80  NHITS-hi-80  NHITS-hi-90  NHITS-hi-99  \n",
       "0     -0.150701     0.064993     0.007472     0.273509  \n",
       "1     -0.120072     0.037656     0.044760    -0.063932  \n",
       "2      0.940408     1.537441     1.361575     1.836984  \n",
       "3      0.953472     1.496655     1.410971     1.442286  \n",
       "4      0.950567     1.919309     1.771615     2.333704  \n",
       "5      1.012793     1.882055     1.745244     2.052947  \n",
       "6      0.660871     1.584400     1.482992     2.039933  \n",
       "7      0.713475     1.545412     1.433161     1.727971  \n",
       "8     -0.150701     0.064993     0.007472     0.273509  \n",
       "9     -0.120072     0.037656     0.044760    -0.063932  \n",
       "10     1.025422     1.660430     1.466082     1.972508  \n",
       "11     1.033190     1.621101     1.525693     1.550014  \n",
       "12     1.182452     2.244275     2.091246     2.678151  \n",
       "13     1.259789     2.203536     2.055027     2.414895  \n",
       "14     0.700722     1.694595     1.610682     2.175858  \n",
       "15     0.765911     1.673749     1.536584     1.879144  "
      ]
     },
     "execution_count": 48,
     "metadata": {},
     "output_type": "execute_result"
    }
   ],
   "source": [
    "df = Y_hat_insample.reset_index()\n",
    "df = df.drop(['cutoff','y'],axis=1)\n",
    "df = df.rename(columns={\"NHITS-median\": \"NHITS\"})\n",
    "df\n"
   ]
  },
  {
   "cell_type": "code",
   "execution_count": 50,
   "metadata": {},
   "outputs": [
    {
     "data": {
      "application/vnd.plotly.v1+json": {
       "config": {
        "plotlyServerURL": "https://plot.ly"
       },
       "data": [
        {
         "legendgroup": "y",
         "line": {
          "color": "#440154",
          "width": 1
         },
         "mode": "lines",
         "name": "y",
         "showlegend": true,
         "type": "scatter",
         "x": [
          "2024-01-01T12:00:00",
          "2024-01-01T13:00:00",
          "2024-01-01T14:00:00",
          "2024-01-01T15:00:00",
          "2024-01-01T16:00:00",
          "2024-01-01T17:00:00",
          "2024-01-01T18:00:00",
          "2024-01-01T19:00:00",
          "2024-01-01T12:00:00",
          "2024-01-01T13:00:00",
          "2024-01-01T14:00:00",
          "2024-01-01T15:00:00",
          "2024-01-01T16:00:00",
          "2024-01-01T17:00:00",
          "2024-01-01T18:00:00",
          "2024-01-01T19:00:00"
         ],
         "xaxis": "x",
         "y": [
          1.2,
          1.3,
          1.7,
          1.6,
          1.2,
          1.3,
          1.7,
          1.6,
          null,
          null,
          null,
          null,
          null,
          null,
          null,
          null
         ],
         "yaxis": "y"
        },
        {
         "legendgroup": "NHITS",
         "line": {
          "color": "#fde725",
          "width": 1
         },
         "mode": "lines",
         "name": "NHITS",
         "showlegend": true,
         "type": "scatter",
         "x": [
          "2024-01-01T12:00:00",
          "2024-01-01T13:00:00",
          "2024-01-01T14:00:00",
          "2024-01-01T15:00:00",
          "2024-01-01T16:00:00",
          "2024-01-01T17:00:00",
          "2024-01-01T18:00:00",
          "2024-01-01T19:00:00",
          "2024-01-01T12:00:00",
          "2024-01-01T13:00:00",
          "2024-01-01T14:00:00",
          "2024-01-01T15:00:00",
          "2024-01-01T16:00:00",
          "2024-01-01T17:00:00",
          "2024-01-01T18:00:00",
          "2024-01-01T19:00:00"
         ],
         "xaxis": "x",
         "y": [
          null,
          null,
          null,
          null,
          null,
          null,
          null,
          null,
          -0.10835336148738861,
          -0.185010626912117,
          0.9846538305282593,
          0.923275351524353,
          1.2896337509155273,
          1.13779616355896,
          1.132224440574646,
          0.8531779646873474
         ],
         "yaxis": "y"
        },
        {
         "fill": "toself",
         "fillcolor": "#fde725",
         "legendgroup": "NHITS_level_90",
         "line": {
          "color": "#fde725",
          "width": 1
         },
         "mode": "lines",
         "name": "NHITS_level_90",
         "opacity": 0.09999999999999998,
         "showlegend": true,
         "type": "scatter",
         "x": [
          "2024-01-01T12:00:00.000000000",
          "2024-01-01T13:00:00.000000000",
          "2024-01-01T14:00:00.000000000",
          "2024-01-01T15:00:00.000000000",
          "2024-01-01T16:00:00.000000000",
          "2024-01-01T17:00:00.000000000",
          "2024-01-01T18:00:00.000000000",
          "2024-01-01T19:00:00.000000000",
          "2024-01-01T12:00:00.000000000",
          "2024-01-01T13:00:00.000000000",
          "2024-01-01T14:00:00.000000000",
          "2024-01-01T15:00:00.000000000",
          "2024-01-01T16:00:00.000000000",
          "2024-01-01T17:00:00.000000000",
          "2024-01-01T18:00:00.000000000",
          "2024-01-01T19:00:00.000000000",
          "2024-01-01T19:00:00.000000000",
          "2024-01-01T18:00:00.000000000",
          "2024-01-01T17:00:00.000000000",
          "2024-01-01T16:00:00.000000000",
          "2024-01-01T15:00:00.000000000",
          "2024-01-01T14:00:00.000000000",
          "2024-01-01T13:00:00.000000000",
          "2024-01-01T12:00:00.000000000",
          "2024-01-01T19:00:00.000000000",
          "2024-01-01T18:00:00.000000000",
          "2024-01-01T17:00:00.000000000",
          "2024-01-01T16:00:00.000000000",
          "2024-01-01T15:00:00.000000000",
          "2024-01-01T14:00:00.000000000",
          "2024-01-01T13:00:00.000000000",
          "2024-01-01T12:00:00.000000000"
         ],
         "xaxis": "x",
         "y": [
          null,
          null,
          null,
          null,
          null,
          null,
          null,
          null,
          0.007472008466720581,
          0.044759832322597504,
          1.361574649810791,
          1.4109705686569214,
          1.771614670753479,
          1.7452439069747925,
          1.4829916954040527,
          1.4331613779067993,
          0.3721037209033966,
          0.3192000389099121,
          0.6584955453872681,
          0.6073473691940308,
          0.6949734091758728,
          0.5746035575866699,
          -0.2433326542377472,
          -0.3383675515651703,
          null,
          null,
          null,
          null,
          null,
          null,
          null,
          null
         ],
         "yaxis": "y"
        },
        {
         "legendgroup": "y",
         "line": {
          "color": "#440154",
          "width": 1
         },
         "mode": "lines",
         "name": "y",
         "showlegend": false,
         "type": "scatter",
         "x": [
          "2024-01-01T12:00:00",
          "2024-01-01T13:00:00",
          "2024-01-01T14:00:00",
          "2024-01-01T15:00:00",
          "2024-01-01T16:00:00",
          "2024-01-01T17:00:00",
          "2024-01-01T18:00:00",
          "2024-01-01T19:00:00",
          "2024-01-01T12:00:00",
          "2024-01-01T13:00:00",
          "2024-01-01T14:00:00",
          "2024-01-01T15:00:00",
          "2024-01-01T16:00:00",
          "2024-01-01T17:00:00",
          "2024-01-01T18:00:00",
          "2024-01-01T19:00:00"
         ],
         "xaxis": "x2",
         "y": [
          1.3,
          1.4,
          1.6,
          1.9,
          1.3,
          1.4,
          1.6,
          1.9,
          null,
          null,
          null,
          null,
          null,
          null,
          null,
          null
         ],
         "yaxis": "y2"
        },
        {
         "legendgroup": "NHITS",
         "line": {
          "color": "#fde725",
          "width": 1
         },
         "mode": "lines",
         "name": "NHITS",
         "showlegend": false,
         "type": "scatter",
         "x": [
          "2024-01-01T12:00:00",
          "2024-01-01T13:00:00",
          "2024-01-01T14:00:00",
          "2024-01-01T15:00:00",
          "2024-01-01T16:00:00",
          "2024-01-01T17:00:00",
          "2024-01-01T18:00:00",
          "2024-01-01T19:00:00",
          "2024-01-01T12:00:00",
          "2024-01-01T13:00:00",
          "2024-01-01T14:00:00",
          "2024-01-01T15:00:00",
          "2024-01-01T16:00:00",
          "2024-01-01T17:00:00",
          "2024-01-01T18:00:00",
          "2024-01-01T19:00:00"
         ],
         "xaxis": "x2",
         "y": [
          null,
          null,
          null,
          null,
          null,
          null,
          null,
          null,
          -0.10835336148738861,
          -0.185010626912117,
          1.0509662628173828,
          1.005363941192627,
          1.5558899641036987,
          1.4071389436721802,
          1.2243940830230713,
          0.9394682049751282
         ],
         "yaxis": "y2"
        },
        {
         "fill": "toself",
         "fillcolor": "#fde725",
         "legendgroup": "NHITS_level_90",
         "line": {
          "color": "#fde725",
          "width": 1
         },
         "mode": "lines",
         "name": "NHITS_level_90",
         "opacity": 0.09999999999999998,
         "showlegend": false,
         "type": "scatter",
         "x": [
          "2024-01-01T12:00:00.000000000",
          "2024-01-01T13:00:00.000000000",
          "2024-01-01T14:00:00.000000000",
          "2024-01-01T15:00:00.000000000",
          "2024-01-01T16:00:00.000000000",
          "2024-01-01T17:00:00.000000000",
          "2024-01-01T18:00:00.000000000",
          "2024-01-01T19:00:00.000000000",
          "2024-01-01T12:00:00.000000000",
          "2024-01-01T13:00:00.000000000",
          "2024-01-01T14:00:00.000000000",
          "2024-01-01T15:00:00.000000000",
          "2024-01-01T16:00:00.000000000",
          "2024-01-01T17:00:00.000000000",
          "2024-01-01T18:00:00.000000000",
          "2024-01-01T19:00:00.000000000",
          "2024-01-01T19:00:00.000000000",
          "2024-01-01T18:00:00.000000000",
          "2024-01-01T17:00:00.000000000",
          "2024-01-01T16:00:00.000000000",
          "2024-01-01T15:00:00.000000000",
          "2024-01-01T14:00:00.000000000",
          "2024-01-01T13:00:00.000000000",
          "2024-01-01T12:00:00.000000000",
          "2024-01-01T19:00:00.000000000",
          "2024-01-01T18:00:00.000000000",
          "2024-01-01T17:00:00.000000000",
          "2024-01-01T16:00:00.000000000",
          "2024-01-01T15:00:00.000000000",
          "2024-01-01T14:00:00.000000000",
          "2024-01-01T13:00:00.000000000",
          "2024-01-01T12:00:00.000000000"
         ],
         "xaxis": "x2",
         "y": [
          null,
          null,
          null,
          null,
          null,
          null,
          null,
          null,
          0.007472008466720581,
          0.044759832322597504,
          1.4660823345184326,
          1.5256929397583008,
          2.091245651245117,
          2.0550265312194824,
          1.6106822490692139,
          1.536584496498108,
          0.40113234519958496,
          0.3509921431541443,
          0.8899293541908264,
          0.8427854180335999,
          0.755815327167511,
          0.6205512881278992,
          -0.2433326542377472,
          -0.3383675515651703,
          null,
          null,
          null,
          null,
          null,
          null,
          null,
          null
         ],
         "yaxis": "y2"
        },
        {
         "line": {
          "color": "lightgrey"
         },
         "mode": "lines",
         "name": "99% Prediction Interval",
         "type": "scatter",
         "x": [
          "2024-01-01T12:00:00",
          "2024-01-01T13:00:00",
          "2024-01-01T14:00:00",
          "2024-01-01T15:00:00",
          "2024-01-01T16:00:00",
          "2024-01-01T17:00:00",
          "2024-01-01T18:00:00",
          "2024-01-01T19:00:00",
          "2024-01-01T12:00:00",
          "2024-01-01T13:00:00",
          "2024-01-01T14:00:00",
          "2024-01-01T15:00:00",
          "2024-01-01T16:00:00",
          "2024-01-01T17:00:00",
          "2024-01-01T18:00:00",
          "2024-01-01T19:00:00"
         ],
         "y": [
          -0.4079565405845642,
          -0.47694891691207886,
          0.25596338510513306,
          0.19276830554008484,
          0.05940786749124527,
          -0.009921625256538391,
          -0.196515753865242,
          -0.25026315450668335,
          -0.4079565405845642,
          -0.47694891691207886,
          0.28956174850463867,
          0.22575920820236206,
          0.23750531673431396,
          0.16637276113033295,
          -0.20554181933403015,
          -0.2663022577762604
         ]
        },
        {
         "line": {
          "color": "lightgrey"
         },
         "mode": "lines",
         "name": "99% Prediction Interval",
         "type": "scatter",
         "x": [
          "2024-01-01T12:00:00",
          "2024-01-01T13:00:00",
          "2024-01-01T14:00:00",
          "2024-01-01T15:00:00",
          "2024-01-01T16:00:00",
          "2024-01-01T17:00:00",
          "2024-01-01T18:00:00",
          "2024-01-01T19:00:00",
          "2024-01-01T12:00:00",
          "2024-01-01T13:00:00",
          "2024-01-01T14:00:00",
          "2024-01-01T15:00:00",
          "2024-01-01T16:00:00",
          "2024-01-01T17:00:00",
          "2024-01-01T18:00:00",
          "2024-01-01T19:00:00"
         ],
         "y": [
          0.2735089063644409,
          -0.06393186748027802,
          1.8369839191436768,
          1.4422862529754639,
          2.3337039947509766,
          2.0529470443725586,
          2.039933204650879,
          1.7279709577560425,
          0.2735089063644409,
          -0.06393186748027802,
          1.972508430480957,
          1.5500144958496094,
          2.6781506538391113,
          2.4148950576782227,
          2.1758575439453125,
          1.8791438341140747
         ]
        }
       ],
       "layout": {
        "annotations": [
         {
          "font": {
           "size": 10
          },
          "showarrow": false,
          "text": "unique_id=a",
          "x": 0.23249999999999998,
          "xanchor": "center",
          "xref": "paper",
          "y": 1,
          "yanchor": "bottom",
          "yref": "paper"
         },
         {
          "font": {
           "size": 10
          },
          "showarrow": false,
          "text": "unique_id=b",
          "x": 0.7674999999999998,
          "xanchor": "center",
          "xref": "paper",
          "y": 1,
          "yanchor": "bottom",
          "yref": "paper"
         },
         {
          "font": {
           "size": 10
          },
          "showarrow": false,
          "text": "Time [ds]",
          "x": 0.5,
          "xanchor": "center",
          "xref": "paper",
          "y": 0,
          "yanchor": "top",
          "yref": "paper",
          "yshift": -30
         },
         {
          "font": {
           "size": 10
          },
          "showarrow": false,
          "text": "Target [y]",
          "textangle": -90,
          "x": 0,
          "xanchor": "right",
          "xref": "paper",
          "xshift": -40,
          "y": 0.5,
          "yanchor": "middle",
          "yref": "paper"
         }
        ],
        "autosize": true,
        "font": {
         "size": 10
        },
        "height": 200,
        "margin": {
         "b": 50,
         "l": 60,
         "r": 10,
         "t": 20
        },
        "template": {
         "data": {
          "bar": [
           {
            "error_x": {
             "color": "#2a3f5f"
            },
            "error_y": {
             "color": "#2a3f5f"
            },
            "marker": {
             "line": {
              "color": "white",
              "width": 0.5
             },
             "pattern": {
              "fillmode": "overlay",
              "size": 10,
              "solidity": 0.2
             }
            },
            "type": "bar"
           }
          ],
          "barpolar": [
           {
            "marker": {
             "line": {
              "color": "white",
              "width": 0.5
             },
             "pattern": {
              "fillmode": "overlay",
              "size": 10,
              "solidity": 0.2
             }
            },
            "type": "barpolar"
           }
          ],
          "carpet": [
           {
            "aaxis": {
             "endlinecolor": "#2a3f5f",
             "gridcolor": "#C8D4E3",
             "linecolor": "#C8D4E3",
             "minorgridcolor": "#C8D4E3",
             "startlinecolor": "#2a3f5f"
            },
            "baxis": {
             "endlinecolor": "#2a3f5f",
             "gridcolor": "#C8D4E3",
             "linecolor": "#C8D4E3",
             "minorgridcolor": "#C8D4E3",
             "startlinecolor": "#2a3f5f"
            },
            "type": "carpet"
           }
          ],
          "choropleth": [
           {
            "colorbar": {
             "outlinewidth": 0,
             "ticks": ""
            },
            "type": "choropleth"
           }
          ],
          "contour": [
           {
            "colorbar": {
             "outlinewidth": 0,
             "ticks": ""
            },
            "colorscale": [
             [
              0,
              "#0d0887"
             ],
             [
              0.1111111111111111,
              "#46039f"
             ],
             [
              0.2222222222222222,
              "#7201a8"
             ],
             [
              0.3333333333333333,
              "#9c179e"
             ],
             [
              0.4444444444444444,
              "#bd3786"
             ],
             [
              0.5555555555555556,
              "#d8576b"
             ],
             [
              0.6666666666666666,
              "#ed7953"
             ],
             [
              0.7777777777777778,
              "#fb9f3a"
             ],
             [
              0.8888888888888888,
              "#fdca26"
             ],
             [
              1,
              "#f0f921"
             ]
            ],
            "type": "contour"
           }
          ],
          "contourcarpet": [
           {
            "colorbar": {
             "outlinewidth": 0,
             "ticks": ""
            },
            "type": "contourcarpet"
           }
          ],
          "heatmap": [
           {
            "colorbar": {
             "outlinewidth": 0,
             "ticks": ""
            },
            "colorscale": [
             [
              0,
              "#0d0887"
             ],
             [
              0.1111111111111111,
              "#46039f"
             ],
             [
              0.2222222222222222,
              "#7201a8"
             ],
             [
              0.3333333333333333,
              "#9c179e"
             ],
             [
              0.4444444444444444,
              "#bd3786"
             ],
             [
              0.5555555555555556,
              "#d8576b"
             ],
             [
              0.6666666666666666,
              "#ed7953"
             ],
             [
              0.7777777777777778,
              "#fb9f3a"
             ],
             [
              0.8888888888888888,
              "#fdca26"
             ],
             [
              1,
              "#f0f921"
             ]
            ],
            "type": "heatmap"
           }
          ],
          "heatmapgl": [
           {
            "colorbar": {
             "outlinewidth": 0,
             "ticks": ""
            },
            "colorscale": [
             [
              0,
              "#0d0887"
             ],
             [
              0.1111111111111111,
              "#46039f"
             ],
             [
              0.2222222222222222,
              "#7201a8"
             ],
             [
              0.3333333333333333,
              "#9c179e"
             ],
             [
              0.4444444444444444,
              "#bd3786"
             ],
             [
              0.5555555555555556,
              "#d8576b"
             ],
             [
              0.6666666666666666,
              "#ed7953"
             ],
             [
              0.7777777777777778,
              "#fb9f3a"
             ],
             [
              0.8888888888888888,
              "#fdca26"
             ],
             [
              1,
              "#f0f921"
             ]
            ],
            "type": "heatmapgl"
           }
          ],
          "histogram": [
           {
            "marker": {
             "pattern": {
              "fillmode": "overlay",
              "size": 10,
              "solidity": 0.2
             }
            },
            "type": "histogram"
           }
          ],
          "histogram2d": [
           {
            "colorbar": {
             "outlinewidth": 0,
             "ticks": ""
            },
            "colorscale": [
             [
              0,
              "#0d0887"
             ],
             [
              0.1111111111111111,
              "#46039f"
             ],
             [
              0.2222222222222222,
              "#7201a8"
             ],
             [
              0.3333333333333333,
              "#9c179e"
             ],
             [
              0.4444444444444444,
              "#bd3786"
             ],
             [
              0.5555555555555556,
              "#d8576b"
             ],
             [
              0.6666666666666666,
              "#ed7953"
             ],
             [
              0.7777777777777778,
              "#fb9f3a"
             ],
             [
              0.8888888888888888,
              "#fdca26"
             ],
             [
              1,
              "#f0f921"
             ]
            ],
            "type": "histogram2d"
           }
          ],
          "histogram2dcontour": [
           {
            "colorbar": {
             "outlinewidth": 0,
             "ticks": ""
            },
            "colorscale": [
             [
              0,
              "#0d0887"
             ],
             [
              0.1111111111111111,
              "#46039f"
             ],
             [
              0.2222222222222222,
              "#7201a8"
             ],
             [
              0.3333333333333333,
              "#9c179e"
             ],
             [
              0.4444444444444444,
              "#bd3786"
             ],
             [
              0.5555555555555556,
              "#d8576b"
             ],
             [
              0.6666666666666666,
              "#ed7953"
             ],
             [
              0.7777777777777778,
              "#fb9f3a"
             ],
             [
              0.8888888888888888,
              "#fdca26"
             ],
             [
              1,
              "#f0f921"
             ]
            ],
            "type": "histogram2dcontour"
           }
          ],
          "mesh3d": [
           {
            "colorbar": {
             "outlinewidth": 0,
             "ticks": ""
            },
            "type": "mesh3d"
           }
          ],
          "parcoords": [
           {
            "line": {
             "colorbar": {
              "outlinewidth": 0,
              "ticks": ""
             }
            },
            "type": "parcoords"
           }
          ],
          "pie": [
           {
            "automargin": true,
            "type": "pie"
           }
          ],
          "scatter": [
           {
            "fillpattern": {
             "fillmode": "overlay",
             "size": 10,
             "solidity": 0.2
            },
            "type": "scatter"
           }
          ],
          "scatter3d": [
           {
            "line": {
             "colorbar": {
              "outlinewidth": 0,
              "ticks": ""
             }
            },
            "marker": {
             "colorbar": {
              "outlinewidth": 0,
              "ticks": ""
             }
            },
            "type": "scatter3d"
           }
          ],
          "scattercarpet": [
           {
            "marker": {
             "colorbar": {
              "outlinewidth": 0,
              "ticks": ""
             }
            },
            "type": "scattercarpet"
           }
          ],
          "scattergeo": [
           {
            "marker": {
             "colorbar": {
              "outlinewidth": 0,
              "ticks": ""
             }
            },
            "type": "scattergeo"
           }
          ],
          "scattergl": [
           {
            "marker": {
             "colorbar": {
              "outlinewidth": 0,
              "ticks": ""
             }
            },
            "type": "scattergl"
           }
          ],
          "scattermapbox": [
           {
            "marker": {
             "colorbar": {
              "outlinewidth": 0,
              "ticks": ""
             }
            },
            "type": "scattermapbox"
           }
          ],
          "scatterpolar": [
           {
            "marker": {
             "colorbar": {
              "outlinewidth": 0,
              "ticks": ""
             }
            },
            "type": "scatterpolar"
           }
          ],
          "scatterpolargl": [
           {
            "marker": {
             "colorbar": {
              "outlinewidth": 0,
              "ticks": ""
             }
            },
            "type": "scatterpolargl"
           }
          ],
          "scatterternary": [
           {
            "marker": {
             "colorbar": {
              "outlinewidth": 0,
              "ticks": ""
             }
            },
            "type": "scatterternary"
           }
          ],
          "surface": [
           {
            "colorbar": {
             "outlinewidth": 0,
             "ticks": ""
            },
            "colorscale": [
             [
              0,
              "#0d0887"
             ],
             [
              0.1111111111111111,
              "#46039f"
             ],
             [
              0.2222222222222222,
              "#7201a8"
             ],
             [
              0.3333333333333333,
              "#9c179e"
             ],
             [
              0.4444444444444444,
              "#bd3786"
             ],
             [
              0.5555555555555556,
              "#d8576b"
             ],
             [
              0.6666666666666666,
              "#ed7953"
             ],
             [
              0.7777777777777778,
              "#fb9f3a"
             ],
             [
              0.8888888888888888,
              "#fdca26"
             ],
             [
              1,
              "#f0f921"
             ]
            ],
            "type": "surface"
           }
          ],
          "table": [
           {
            "cells": {
             "fill": {
              "color": "#EBF0F8"
             },
             "line": {
              "color": "white"
             }
            },
            "header": {
             "fill": {
              "color": "#C8D4E3"
             },
             "line": {
              "color": "white"
             }
            },
            "type": "table"
           }
          ]
         },
         "layout": {
          "annotationdefaults": {
           "arrowcolor": "#2a3f5f",
           "arrowhead": 0,
           "arrowwidth": 1
          },
          "autotypenumbers": "strict",
          "coloraxis": {
           "colorbar": {
            "outlinewidth": 0,
            "ticks": ""
           }
          },
          "colorscale": {
           "diverging": [
            [
             0,
             "#8e0152"
            ],
            [
             0.1,
             "#c51b7d"
            ],
            [
             0.2,
             "#de77ae"
            ],
            [
             0.3,
             "#f1b6da"
            ],
            [
             0.4,
             "#fde0ef"
            ],
            [
             0.5,
             "#f7f7f7"
            ],
            [
             0.6,
             "#e6f5d0"
            ],
            [
             0.7,
             "#b8e186"
            ],
            [
             0.8,
             "#7fbc41"
            ],
            [
             0.9,
             "#4d9221"
            ],
            [
             1,
             "#276419"
            ]
           ],
           "sequential": [
            [
             0,
             "#0d0887"
            ],
            [
             0.1111111111111111,
             "#46039f"
            ],
            [
             0.2222222222222222,
             "#7201a8"
            ],
            [
             0.3333333333333333,
             "#9c179e"
            ],
            [
             0.4444444444444444,
             "#bd3786"
            ],
            [
             0.5555555555555556,
             "#d8576b"
            ],
            [
             0.6666666666666666,
             "#ed7953"
            ],
            [
             0.7777777777777778,
             "#fb9f3a"
            ],
            [
             0.8888888888888888,
             "#fdca26"
            ],
            [
             1,
             "#f0f921"
            ]
           ],
           "sequentialminus": [
            [
             0,
             "#0d0887"
            ],
            [
             0.1111111111111111,
             "#46039f"
            ],
            [
             0.2222222222222222,
             "#7201a8"
            ],
            [
             0.3333333333333333,
             "#9c179e"
            ],
            [
             0.4444444444444444,
             "#bd3786"
            ],
            [
             0.5555555555555556,
             "#d8576b"
            ],
            [
             0.6666666666666666,
             "#ed7953"
            ],
            [
             0.7777777777777778,
             "#fb9f3a"
            ],
            [
             0.8888888888888888,
             "#fdca26"
            ],
            [
             1,
             "#f0f921"
            ]
           ]
          },
          "colorway": [
           "#636efa",
           "#EF553B",
           "#00cc96",
           "#ab63fa",
           "#FFA15A",
           "#19d3f3",
           "#FF6692",
           "#B6E880",
           "#FF97FF",
           "#FECB52"
          ],
          "font": {
           "color": "#2a3f5f"
          },
          "geo": {
           "bgcolor": "white",
           "lakecolor": "white",
           "landcolor": "white",
           "showlakes": true,
           "showland": true,
           "subunitcolor": "#C8D4E3"
          },
          "hoverlabel": {
           "align": "left"
          },
          "hovermode": "closest",
          "mapbox": {
           "style": "light"
          },
          "paper_bgcolor": "white",
          "plot_bgcolor": "white",
          "polar": {
           "angularaxis": {
            "gridcolor": "#EBF0F8",
            "linecolor": "#EBF0F8",
            "ticks": ""
           },
           "bgcolor": "white",
           "radialaxis": {
            "gridcolor": "#EBF0F8",
            "linecolor": "#EBF0F8",
            "ticks": ""
           }
          },
          "scene": {
           "xaxis": {
            "backgroundcolor": "white",
            "gridcolor": "#DFE8F3",
            "gridwidth": 2,
            "linecolor": "#EBF0F8",
            "showbackground": true,
            "ticks": "",
            "zerolinecolor": "#EBF0F8"
           },
           "yaxis": {
            "backgroundcolor": "white",
            "gridcolor": "#DFE8F3",
            "gridwidth": 2,
            "linecolor": "#EBF0F8",
            "showbackground": true,
            "ticks": "",
            "zerolinecolor": "#EBF0F8"
           },
           "zaxis": {
            "backgroundcolor": "white",
            "gridcolor": "#DFE8F3",
            "gridwidth": 2,
            "linecolor": "#EBF0F8",
            "showbackground": true,
            "ticks": "",
            "zerolinecolor": "#EBF0F8"
           }
          },
          "shapedefaults": {
           "line": {
            "color": "#2a3f5f"
           }
          },
          "ternary": {
           "aaxis": {
            "gridcolor": "#DFE8F3",
            "linecolor": "#A2B1C6",
            "ticks": ""
           },
           "baxis": {
            "gridcolor": "#DFE8F3",
            "linecolor": "#A2B1C6",
            "ticks": ""
           },
           "bgcolor": "white",
           "caxis": {
            "gridcolor": "#DFE8F3",
            "linecolor": "#A2B1C6",
            "ticks": ""
           }
          },
          "title": {
           "x": 0.05
          },
          "xaxis": {
           "automargin": true,
           "gridcolor": "#EBF0F8",
           "linecolor": "#EBF0F8",
           "ticks": "",
           "title": {
            "standoff": 15
           },
           "zerolinecolor": "#EBF0F8",
           "zerolinewidth": 2
          },
          "yaxis": {
           "automargin": true,
           "gridcolor": "#EBF0F8",
           "linecolor": "#EBF0F8",
           "ticks": "",
           "title": {
            "standoff": 15
           },
           "zerolinecolor": "#EBF0F8",
           "zerolinewidth": 2
          }
         }
        },
        "xaxis": {
         "anchor": "y",
         "domain": [
          0,
          0.46499999999999997
         ],
         "showticklabels": true,
         "visible": true
        },
        "xaxis2": {
         "anchor": "y2",
         "domain": [
          0.5349999999999999,
          0.9999999999999999
         ],
         "showticklabels": true,
         "visible": true
        },
        "yaxis": {
         "anchor": "x",
         "domain": [
          0,
          1
         ]
        },
        "yaxis2": {
         "anchor": "x2",
         "domain": [
          0,
          1
         ]
        }
       }
      }
     },
     "metadata": {},
     "output_type": "display_data"
    }
   ],
   "source": [
    "#p=matplotlib.colors.LinearSegmentedColormap.from_list(\"\", [\"red\",\"violet\",\"blue\"])\n",
    "p = list([\"red\",\"blue\"])\n",
    "fig = plot_series(Y_df, df, level=[90], engine=\"plotly\")\n",
    "# fill='tonexty',  fill='tonexty',\n",
    "fig.get_subplot\n",
    "# row=1, col=1\n",
    "for r in [ 1,2]: \n",
    "  fig.add_trace(go.Scatter(x=df['ds'], y=df['NHITS-lo-99'],row=1, col=r,  mode='lines', line=dict(color='lightgrey'), name='99% Prediction Interval'))\n",
    "  fig.add_trace(go.Scatter(x=df['ds'], y=df['NHITS-hi-99'],row=1, col=r,  mode='lines', line=dict(color='lightgrey'), name='99% Prediction Interval'))\n",
    "\n",
    "\n",
    "\n",
    "fig.show()"
   ]
  },
  {
   "cell_type": "code",
   "execution_count": 15,
   "metadata": {},
   "outputs": [
    {
     "data": {
      "text/plain": [
       "['Accent',\n",
       " 'Accent_r',\n",
       " 'Blues',\n",
       " 'Blues_r',\n",
       " 'BrBG',\n",
       " 'BrBG_r',\n",
       " 'BuGn',\n",
       " 'BuGn_r',\n",
       " 'BuPu',\n",
       " 'BuPu_r',\n",
       " 'CMRmap',\n",
       " 'CMRmap_r',\n",
       " 'ColormapRegistry',\n",
       " 'Dark2',\n",
       " 'Dark2_r',\n",
       " 'GnBu',\n",
       " 'GnBu_r',\n",
       " 'Grays',\n",
       " 'Greens',\n",
       " 'Greens_r',\n",
       " 'Greys',\n",
       " 'Greys_r',\n",
       " 'Mapping',\n",
       " 'OrRd',\n",
       " 'OrRd_r',\n",
       " 'Oranges',\n",
       " 'Oranges_r',\n",
       " 'PRGn',\n",
       " 'PRGn_r',\n",
       " 'Paired',\n",
       " 'Paired_r',\n",
       " 'Pastel1',\n",
       " 'Pastel1_r',\n",
       " 'Pastel2',\n",
       " 'Pastel2_r',\n",
       " 'PiYG',\n",
       " 'PiYG_r',\n",
       " 'PuBu',\n",
       " 'PuBuGn',\n",
       " 'PuBuGn_r',\n",
       " 'PuBu_r',\n",
       " 'PuOr',\n",
       " 'PuOr_r',\n",
       " 'PuRd',\n",
       " 'PuRd_r',\n",
       " 'Purples',\n",
       " 'Purples_r',\n",
       " 'RdBu',\n",
       " 'RdBu_r',\n",
       " 'RdGy',\n",
       " 'RdGy_r',\n",
       " 'RdPu',\n",
       " 'RdPu_r',\n",
       " 'RdYlBu',\n",
       " 'RdYlBu_r',\n",
       " 'RdYlGn',\n",
       " 'RdYlGn_r',\n",
       " 'Reds',\n",
       " 'Reds_r',\n",
       " 'ScalarMappable',\n",
       " 'Set1',\n",
       " 'Set1_r',\n",
       " 'Set2',\n",
       " 'Set2_r',\n",
       " 'Set3',\n",
       " 'Set3_r',\n",
       " 'Spectral',\n",
       " 'Spectral_r',\n",
       " 'Wistia',\n",
       " 'Wistia_r',\n",
       " 'YlGn',\n",
       " 'YlGnBu',\n",
       " 'YlGnBu_r',\n",
       " 'YlGn_r',\n",
       " 'YlOrBr',\n",
       " 'YlOrBr_r',\n",
       " 'YlOrRd',\n",
       " 'YlOrRd_r',\n",
       " '_LUTSIZE',\n",
       " '__builtins__',\n",
       " '__cached__',\n",
       " '__doc__',\n",
       " '__file__',\n",
       " '__loader__',\n",
       " '__name__',\n",
       " '__package__',\n",
       " '__spec__',\n",
       " '_api',\n",
       " '_auto_norm_from_scale',\n",
       " '_colormaps',\n",
       " '_ensure_cmap',\n",
       " '_gen_cmap_registry',\n",
       " '_get_cmap',\n",
       " 'afmhot',\n",
       " 'afmhot_r',\n",
       " 'autumn',\n",
       " 'autumn_r',\n",
       " 'binary',\n",
       " 'binary_r',\n",
       " 'bone',\n",
       " 'bone_r',\n",
       " 'brg',\n",
       " 'brg_r',\n",
       " 'bwr',\n",
       " 'bwr_r',\n",
       " 'cbook',\n",
       " 'cividis',\n",
       " 'cividis_r',\n",
       " 'cmaps_listed',\n",
       " 'colors',\n",
       " 'cool',\n",
       " 'cool_r',\n",
       " 'coolwarm',\n",
       " 'coolwarm_r',\n",
       " 'copper',\n",
       " 'copper_r',\n",
       " 'cubehelix',\n",
       " 'cubehelix_r',\n",
       " 'datad',\n",
       " 'flag',\n",
       " 'flag_r',\n",
       " 'functools',\n",
       " 'get_cmap',\n",
       " 'gist_earth',\n",
       " 'gist_earth_r',\n",
       " 'gist_gray',\n",
       " 'gist_gray_r',\n",
       " 'gist_grey',\n",
       " 'gist_heat',\n",
       " 'gist_heat_r',\n",
       " 'gist_ncar',\n",
       " 'gist_ncar_r',\n",
       " 'gist_rainbow',\n",
       " 'gist_rainbow_r',\n",
       " 'gist_stern',\n",
       " 'gist_stern_r',\n",
       " 'gist_yarg',\n",
       " 'gist_yarg_r',\n",
       " 'gist_yerg',\n",
       " 'gnuplot',\n",
       " 'gnuplot2',\n",
       " 'gnuplot2_r',\n",
       " 'gnuplot_r',\n",
       " 'gray',\n",
       " 'gray_r',\n",
       " 'grey',\n",
       " 'hot',\n",
       " 'hot_r',\n",
       " 'hsv',\n",
       " 'hsv_r',\n",
       " 'inferno',\n",
       " 'inferno_r',\n",
       " 'jet',\n",
       " 'jet_r',\n",
       " 'ma',\n",
       " 'magma',\n",
       " 'magma_r',\n",
       " 'mpl',\n",
       " 'nipy_spectral',\n",
       " 'nipy_spectral_r',\n",
       " 'np',\n",
       " 'ocean',\n",
       " 'ocean_r',\n",
       " 'pink',\n",
       " 'pink_r',\n",
       " 'plasma',\n",
       " 'plasma_r',\n",
       " 'prism',\n",
       " 'prism_r',\n",
       " 'rainbow',\n",
       " 'rainbow_r',\n",
       " 'register_cmap',\n",
       " 'scale',\n",
       " 'seismic',\n",
       " 'seismic_r',\n",
       " 'spring',\n",
       " 'spring_r',\n",
       " 'summer',\n",
       " 'summer_r',\n",
       " 'tab10',\n",
       " 'tab10_r',\n",
       " 'tab20',\n",
       " 'tab20_r',\n",
       " 'tab20b',\n",
       " 'tab20b_r',\n",
       " 'tab20c',\n",
       " 'tab20c_r',\n",
       " 'terrain',\n",
       " 'terrain_r',\n",
       " 'turbo',\n",
       " 'turbo_r',\n",
       " 'twilight',\n",
       " 'twilight_r',\n",
       " 'twilight_shifted',\n",
       " 'twilight_shifted_r',\n",
       " 'unregister_cmap',\n",
       " 'viridis',\n",
       " 'viridis_r',\n",
       " 'winter',\n",
       " 'winter_r']"
      ]
     },
     "execution_count": 15,
     "metadata": {},
     "output_type": "execute_result"
    }
   ],
   "source": [
    "dir(cm)"
   ]
  }
 ],
 "metadata": {
  "kernelspec": {
   "display_name": "prophetTest",
   "language": "python",
   "name": "python3"
  },
  "language_info": {
   "codemirror_mode": {
    "name": "ipython",
    "version": 3
   },
   "file_extension": ".py",
   "mimetype": "text/x-python",
   "name": "python",
   "nbconvert_exporter": "python",
   "pygments_lexer": "ipython3",
   "version": "3.11.8"
  }
 },
 "nbformat": 4,
 "nbformat_minor": 2
}
